{
 "cells": [
  {
   "cell_type": "code",
   "execution_count": 1,
   "id": "95767d1d",
   "metadata": {
    "ExecuteTime": {
     "end_time": "2021-10-21T08:28:21.936784Z",
     "start_time": "2021-10-21T08:28:21.918625Z"
    }
   },
   "outputs": [],
   "source": [
    "import PIL as pil\n",
    "from PIL import Image\n",
    "import math"
   ]
  },
  {
   "cell_type": "markdown",
   "id": "49cfde03",
   "metadata": {},
   "source": [
    "#### Part I\n",
    "\n",
    "Main modification from prior versions: User-determined # of columns and rows will almost always not divde perfectly into the pixel dimensions.  Rounding up or down to utilize a single window size (or fixed # of pixels for all column/rows) causes total number of cols/rows produced to vary from the input value. Instead - since cropping is undesirable - round each individual col/row size to the nearest integer.  \n",
    "Result: each column may be +/- 2 pixel in width from its neighbor, but there will not be any extra columns added, nor one considerably different-sized column at the end."
   ]
  },
  {
   "cell_type": "code",
   "execution_count": 2,
   "id": "81ae876e",
   "metadata": {
    "ExecuteTime": {
     "end_time": "2021-10-21T08:28:21.942639Z",
     "start_time": "2021-10-21T08:28:21.937957Z"
    }
   },
   "outputs": [],
   "source": [
    "def img1_tileRGBs(path, num_cols, num_rows):\n",
    "\n",
    "    pic1 = pil.Image.open(path).convert('RGB')\n",
    "    width1, height1 = pic1.size\n",
    "    \n",
    "    def variable_steps(max_pixels, row_or_col):\n",
    "        px_per_dim = max_pixels/row_or_col #not rounded\n",
    "        tups = []\n",
    "        start = 0\n",
    "        end = start + px_per_dim #not rounded\n",
    "    \n",
    "        for i in range(0,max_pixels+1):\n",
    "            tups.append( ( int(round(start,0)), int(round(end,0)) ) ) #round nearest int here\n",
    "            start = end\n",
    "            end = start + px_per_dim\n",
    "\n",
    "            if tups[-1][1] >= max_pixels:\n",
    "                break\n",
    "        \n",
    "        return tups\n",
    "    \n",
    "    \n",
    "    chunk_it_up_cols = variable_steps(width1, num_cols)\n",
    "    chunk_it_up_rows = variable_steps(height1, num_rows)\n",
    "    \n",
    "    #find center pixel in each col and row, round nearest int\n",
    "    col_centers = [int(round((i[0]+i[1])/2,0)) for i in chunk_it_up_cols]\n",
    "    row_centers = [int(round((i[0]+i[1])/2,0)) for i in chunk_it_up_rows]\n",
    "    #knit into tuple, coordinate of px at the center of each tile (or closest to true center)\n",
    "    center_px_coords = [(x,y) for x in col_centers for y in row_centers]\n",
    "    #the order of center_px_coords is (col_0,row_0), (col_0,row_1), ... on to col_1 once reach num_rows\n",
    "    \n",
    "    #rgb values for each center pixel\n",
    "    return [list(pic1.getpixel(i)) for i in center_px_coords]"
   ]
  },
  {
   "cell_type": "code",
   "execution_count": 3,
   "id": "954bea27",
   "metadata": {
    "ExecuteTime": {
     "end_time": "2021-10-21T08:28:21.957611Z",
     "start_time": "2021-10-21T08:28:21.943974Z"
    }
   },
   "outputs": [],
   "source": [
    "demo_pic1 = './prac_images/bibzetmoi-small.jpg'\n",
    "num_rows = 37\n",
    "num_cols = 49\n",
    "\n",
    "p1_centerpx_rgbs = img1_tileRGBs(demo_pic1, num_cols, num_rows)"
   ]
  },
  {
   "cell_type": "markdown",
   "id": "9a688188",
   "metadata": {},
   "source": [
    "#### Part II\n",
    "Main modification from prior versions: account for oversaturation -> when the correct _average_ rgb value can't be achieved with simple addition due to 0 & 255 capping.\n",
    "  \n",
    "Code for total_avg adapted from [Sp3000's answer here](https://codegolf.stackexchange.com/questions/53621/force-an-average-on-an-image)"
   ]
  },
  {
   "cell_type": "code",
   "execution_count": 4,
   "id": "2f863a1d",
   "metadata": {
    "ExecuteTime": {
     "end_time": "2021-10-21T08:28:21.961774Z",
     "start_time": "2021-10-21T08:28:21.958796Z"
    }
   },
   "outputs": [],
   "source": [
    "def total_avg(img_path=False, local_object=False):\n",
    "    if local_object:\n",
    "        width, height = local_object.size\n",
    "        img = local_object\n",
    "        \n",
    "    elif img_path:\n",
    "        img = pil.Image.open(img_path).convert('RGB')\n",
    "        width, height = img.size\n",
    "    \n",
    "    total_rgb = [0, 0, 0]\n",
    "    \n",
    "    for x in range(width):\n",
    "        for y in range(height):\n",
    "            for i in range(3): #rgb channels\n",
    "                total_rgb[i] += img.getpixel((x,y))[i]\n",
    "                \n",
    "    return [i / (height*width) for i in total_rgb]"
   ]
  },
  {
   "cell_type": "code",
   "execution_count": 5,
   "id": "827183aa",
   "metadata": {
    "ExecuteTime": {
     "end_time": "2021-10-21T08:28:22.333337Z",
     "start_time": "2021-10-21T08:28:21.962573Z"
    }
   },
   "outputs": [
    {
     "name": "stdout",
     "output_type": "stream",
     "text": [
      "116.25749448123621 103.05903605592347 129.04709713024283\n"
     ]
    }
   ],
   "source": [
    "demo_pic2 = './prac_images/source_img2.png'\n",
    "\n",
    "Ri, Gi, Bi = total_avg(demo_pic2)\n",
    "print(Ri, Gi, Bi) #leave as floats here"
   ]
  },
  {
   "cell_type": "code",
   "execution_count": 13,
   "id": "c2f46ba6",
   "metadata": {
    "ExecuteTime": {
     "end_time": "2021-10-21T08:37:28.007657Z",
     "start_time": "2021-10-21T08:37:27.997964Z"
    }
   },
   "outputs": [],
   "source": [
    "def all_the_exports(img_path, out_path, num_cols, num_rows, reference_rgbs):\n",
    "    col = 1 #counters for export filenames\n",
    "    row = 1\n",
    "    total = 1\n",
    "    \n",
    "    for i in reference_rgbs:\n",
    "        Rf, Gf, Bf = i\n",
    "        Ri, Gi, Bi = total_avg(img_path = img_path, local_object=False)\n",
    "        Rmod, Gmod, Bmod = Rf-Ri, Gf-Gi, Bf-Bi\n",
    "        \n",
    "        #when you edit values in the pixel_map, it is changed the source image\n",
    "        #thus must reload source image each iteration to reset the modified pixels\n",
    "        pic2 = pil.Image.open(img_path).convert('RGB')\n",
    "        p2_pixelmap = pic2.load()\n",
    "        width2, height2 = pic2.size\n",
    "        \n",
    "        while (abs(Rmod) > 0.5) or (abs(Gmod) > 0.5) or (abs(Bmod) > 0.5):\n",
    "\n",
    "            for x in range(width2):\n",
    "                for y in range(height2):\n",
    "                    p2_pixelmap[x,y] = (int(round(p2_pixelmap[x,y][0]+Rmod,0)), \n",
    "                                        int(round(p2_pixelmap[x,y][1]+Gmod,0)), \n",
    "                                        int(round(p2_pixelmap[x,y][2]+Bmod,0)))\n",
    "                #pixelmap defacto restricted to 0-255. No risk of negatives or >255\n",
    "            Ri2, Gi2, Bi2 = total_avg(img_path=False, local_object = pic2)\n",
    "            Rmod, Gmod, Bmod = Rf-Ri2, Gf-Gi2, Bf-Bi2\n",
    "            \n",
    "        pic2.save(f'{out_path}/{total}_col{col}row{row}.png')\n",
    "        total += 1\n",
    "        row += 1\n",
    "        if (row-1) % num_rows == 0:\n",
    "            row = 1\n",
    "            col += 1"
   ]
  },
  {
   "cell_type": "code",
   "execution_count": 14,
   "id": "1c71c096",
   "metadata": {
    "ExecuteTime": {
     "end_time": "2021-10-21T13:16:28.353535Z",
     "start_time": "2021-10-21T08:37:29.800276Z"
    }
   },
   "outputs": [],
   "source": [
    "out_path = './prac_images/test_export_sat3'\n",
    "\n",
    "all_the_exports(demo_pic2, out_path, num_cols, num_rows, p1_centerpx_rgbs)"
   ]
  },
  {
   "cell_type": "markdown",
   "id": "c3060fa8",
   "metadata": {},
   "source": [
    "#### QC"
   ]
  },
  {
   "cell_type": "code",
   "execution_count": 16,
   "id": "5b17d6bb",
   "metadata": {
    "ExecuteTime": {
     "end_time": "2021-10-21T19:58:35.896850Z",
     "start_time": "2021-10-21T19:58:35.888226Z"
    }
   },
   "outputs": [],
   "source": [
    "def img1_qc(path, num_cols, num_rows): #same as img1_tilesRGB, modified output\n",
    "    pic1 = pil.Image.open(path).convert('RGB')\n",
    "    width1, height1 = pic1.size\n",
    "    def variable_steps(max_pixels, row_or_col):\n",
    "        px_per_dim = max_pixels/row_or_col #not rounded\n",
    "        tups = []\n",
    "        start = 0\n",
    "        end = start + px_per_dim #not rounded\n",
    "        for i in range(0,max_pixels+1):\n",
    "            tups.append( ( int(round(start,0)), int(round(end,0)) ) )\n",
    "            start = end\n",
    "            end = start + px_per_dim\n",
    "            if tups[-1][1] >= max_pixels:\n",
    "                break\n",
    "        return tups\n",
    "    chunk_it_up_cols = variable_steps(width1, num_cols)\n",
    "    chunk_it_up_rows = variable_steps(height1, num_rows)\n",
    "    col_centers = [int(round((i[0]+i[1])/2,0)) for i in chunk_it_up_cols]\n",
    "    row_centers = [int(round((i[0]+i[1])/2,0)) for i in chunk_it_up_rows]\n",
    "    center_px_coords = [(x,y) for x in col_centers for y in row_centers]    \n",
    "\n",
    "    return zip(center_px_coords, [list(pic1.getpixel(i)) for i in center_px_coords])"
   ]
  },
  {
   "cell_type": "code",
   "execution_count": 17,
   "id": "570d3de2",
   "metadata": {
    "ExecuteTime": {
     "end_time": "2021-10-21T19:58:37.033947Z",
     "start_time": "2021-10-21T19:58:37.015457Z"
    }
   },
   "outputs": [],
   "source": [
    "img1_qc_specs = list(img1_qc(demo_pic1, num_cols, num_rows))"
   ]
  },
  {
   "cell_type": "code",
   "execution_count": 28,
   "id": "150cd8b8",
   "metadata": {
    "ExecuteTime": {
     "end_time": "2021-10-21T20:23:26.216591Z",
     "start_time": "2021-10-21T20:23:25.819113Z"
    }
   },
   "outputs": [
    {
     "name": "stdout",
     "output_type": "stream",
     "text": [
      "target RGB for center pixel @ (430, 8) = [178, 198, 233]\n",
      "actual avg RGB for corresponding export =  [178.0357, 197.7356, 232.789]\n"
     ]
    }
   ],
   "source": [
    "print(f'target RGB for center pixel @ {img1_qc_specs[1702][0]} = {img1_qc_specs[1702][1]}')\n",
    "print('actual avg RGB for corresponding export = ', [round(i, 4) for i in total_avg('./prac_images/test_export_sat1/1703_col47row1.png')])"
   ]
  },
  {
   "cell_type": "code",
   "execution_count": 30,
   "id": "7909c7e8",
   "metadata": {
    "ExecuteTime": {
     "end_time": "2021-10-21T20:34:46.670990Z",
     "start_time": "2021-10-21T20:34:46.272432Z"
    }
   },
   "outputs": [
    {
     "name": "stdout",
     "output_type": "stream",
     "text": [
      "target RGB for center pixel @ (60, 527) = [0, 7, 3]\n",
      "actual avg RGB for corresponding export =  [0.4988, 7.271, 3.4852]\n"
     ]
    }
   ],
   "source": [
    "print(f'target RGB for center pixel @ {img1_qc_specs[254][0]} = {img1_qc_specs[254][1]}')\n",
    "print('actual avg RGB for corresponding export = ', [round(i, 4) for i in total_avg('./prac_images/test_export_sat1/255_col7row33.png')])"
   ]
  },
  {
   "cell_type": "code",
   "execution_count": 31,
   "id": "cce3d9ab",
   "metadata": {
    "ExecuteTime": {
     "end_time": "2021-10-21T20:34:49.536122Z",
     "start_time": "2021-10-21T20:34:49.131160Z"
    }
   },
   "outputs": [
    {
     "name": "stdout",
     "output_type": "stream",
     "text": [
      "target RGB for center pixel @ (134, 284) = [23, 18, 0]\n",
      "actual avgRGB for corresponding export =  [23.4161, 18.2822, 0.4476]\n"
     ]
    }
   ],
   "source": [
    "print(f'target RGB for center pixel @ {img1_qc_specs[535][0]} = {img1_qc_specs[535][1]}')\n",
    "print('actual avgRGB for corresponding export = ', [round(i, 4) for i in total_avg('./prac_images/test_export_sat1/536_col15row18.png')])"
   ]
  }
 ],
 "metadata": {
  "kernelspec": {
   "display_name": "Python 3",
   "language": "python",
   "name": "python3"
  },
  "language_info": {
   "codemirror_mode": {
    "name": "ipython",
    "version": 3
   },
   "file_extension": ".py",
   "mimetype": "text/x-python",
   "name": "python",
   "nbconvert_exporter": "python",
   "pygments_lexer": "ipython3",
   "version": "3.9.2"
  },
  "varInspector": {
   "cols": {
    "lenName": 16,
    "lenType": 16,
    "lenVar": 40
   },
   "kernels_config": {
    "python": {
     "delete_cmd_postfix": "",
     "delete_cmd_prefix": "del ",
     "library": "var_list.py",
     "varRefreshCmd": "print(var_dic_list())"
    },
    "r": {
     "delete_cmd_postfix": ") ",
     "delete_cmd_prefix": "rm(",
     "library": "var_list.r",
     "varRefreshCmd": "cat(var_dic_list()) "
    }
   },
   "types_to_exclude": [
    "module",
    "function",
    "builtin_function_or_method",
    "instance",
    "_Feature"
   ],
   "window_display": false
  }
 },
 "nbformat": 4,
 "nbformat_minor": 5
}
